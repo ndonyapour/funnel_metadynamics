{
 "cells": [
  {
   "cell_type": "code",
   "execution_count": 8,
   "metadata": {},
   "outputs": [],
   "source": [
    "import numpy as np\n",
    "import mdtraj as mdj\n",
    "import nglview as nv\n",
    "import matplotlib.pyplot as plt"
   ]
  },
  {
   "cell_type": "code",
   "execution_count": 9,
   "metadata": {},
   "outputs": [],
   "source": [
    "# from the make-funnle on complex.gro, in mdtraj indices start from zero\n",
    "p1 = np.array([1679,1689,1708,1727,1994,2013,2035,2479,2569,2575]) - 1\n",
    "p2 = np.array([348,550,1769,1776,2479,2490,2500,2517,2524,2536,2547,2719,2735,2746,2770,2777,2788,2795,2904,2911]) - 1\n"
   ]
  },
  {
   "cell_type": "code",
   "execution_count": 11,
   "metadata": {},
   "outputs": [],
   "source": [
    "traj = mdj.load_dcd('../outputs/traj.dcd', '../inputs/protein_ligand.pdb')"
   ]
  },
  {
   "cell_type": "code",
   "execution_count": 17,
   "metadata": {},
   "outputs": [],
   "source": [
    "# CONVERT TO ANGSTROM\n",
    "p1_com = mdj.compute_center_of_mass(traj.atom_slice(p1)) * 10\n",
    "p2_com = mdj.compute_center_of_mass(traj.atom_slice(p2)) * 10"
   ]
  },
  {
   "cell_type": "code",
   "execution_count": 18,
   "metadata": {},
   "outputs": [
    {
     "name": "stdout",
     "output_type": "stream",
     "text": [
      "[56.42032003 55.06752539 15.08851266]\n",
      "[58.65308833 56.55204415 26.06957817]\n"
     ]
    }
   ],
   "source": [
    "print(p1_com[-1])\n",
    "print(p2_com[-1])"
   ]
  },
  {
   "cell_type": "code",
   "execution_count": null,
   "metadata": {},
   "outputs": [],
   "source": []
  }
 ],
 "metadata": {
  "kernelspec": {
   "display_name": "Python 3.8.13 ('plumed')",
   "language": "python",
   "name": "python3"
  },
  "language_info": {
   "codemirror_mode": {
    "name": "ipython",
    "version": 3
   },
   "file_extension": ".py",
   "mimetype": "text/x-python",
   "name": "python",
   "nbconvert_exporter": "python",
   "pygments_lexer": "ipython3",
   "version": "3.8.13"
  },
  "orig_nbformat": 4,
  "vscode": {
   "interpreter": {
    "hash": "1a7639d33abdf9055a9f3f1fee1056cfff44ea0ecfbc31d21406269354df5116"
   }
  }
 },
 "nbformat": 4,
 "nbformat_minor": 2
}
