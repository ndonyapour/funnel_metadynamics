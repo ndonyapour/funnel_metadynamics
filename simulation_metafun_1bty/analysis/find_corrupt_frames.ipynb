{
 "cells": [
  {
   "cell_type": "code",
   "execution_count": 1,
   "metadata": {},
   "outputs": [],
   "source": [
    "import numpy as np\n",
    "import math\n",
    "import plumed\n",
    "import mdtraj as mdj\n",
    "import matplotlib.pyplot as plt"
   ]
  },
  {
   "cell_type": "code",
   "execution_count": 2,
   "metadata": {},
   "outputs": [
    {
     "name": "stdout",
     "output_type": "stream",
     "text": [
      "(561824, 6)\n"
     ]
    }
   ],
   "source": [
    "data = np.loadtxt(\"../outputs/COLVAR_driver\")\n",
    "#data = plumed.read_as_pandas(\"fes.dat\")\n",
    "print(data.shape)"
   ]
  },
  {
   "cell_type": "code",
   "execution_count": 3,
   "metadata": {},
   "outputs": [
    {
     "name": "stdout",
     "output_type": "stream",
     "text": [
      "(116497,) (116497,)\n",
      "True\n"
     ]
    }
   ],
   "source": [
    "idxs_prj = np.where(np.not_equal(data[:, 2], data[:, 4]))[0]\n",
    "idxs_ext = np.where(np.not_equal(data[:, 3], data[:, 5]))[0]\n",
    "print(idxs_prj.shape, idxs_ext.shape)\n",
    "print(np.array_equal(idxs_prj, idxs_ext))   "
   ]
  },
  {
   "cell_type": "code",
   "execution_count": 4,
   "metadata": {},
   "outputs": [
    {
     "name": "stderr",
     "output_type": "stream",
     "text": [
      "/home/nz/anaconda3/envs/plumed/lib/python3.8/site-packages/mdtraj/formats/pdb/pdbstructure.py:435: UserWarning: WARNING: two consecutive residues with same number (ATOM    688  N   ARG A  65      41.030  38.590  50.160  1.00  1.00           N  , ATOM    687  O   VAL A  65      40.240  38.830  52.260  1.00  1.00           O  )\n",
      "  warnings.warn(\"WARNING: two consecutive residues with same number (%s, %s)\" % (atom, self._current_residue.atoms[-1]))\n",
      "/home/nz/anaconda3/envs/plumed/lib/python3.8/site-packages/mdtraj/formats/pdb/pdbstructure.py:435: UserWarning: WARNING: two consecutive residues with same number (ATOM   2374  N   TYR A 184      43.370  38.830  21.130  1.00  1.00           N  , ATOM   2373  O   GLY A 184      42.110  40.660  20.840  1.00  1.00           O  )\n",
      "  warnings.warn(\"WARNING: two consecutive residues with same number (%s, %s)\" % (atom, self._current_residue.atoms[-1]))\n",
      "/home/nz/anaconda3/envs/plumed/lib/python3.8/site-packages/mdtraj/formats/pdb/pdbstructure.py:435: UserWarning: WARNING: two consecutive residues with same number (ATOM   2443  N   LYS A 188      49.640  37.570  23.500  1.00  1.00           N  , ATOM   2442  O   GLY A 188      51.840  37.370  23.890  1.00  1.00           O  )\n",
      "  warnings.warn(\"WARNING: two consecutive residues with same number (%s, %s)\" % (atom, self._current_residue.atoms[-1]))\n",
      "/home/nz/anaconda3/envs/plumed/lib/python3.8/site-packages/mdtraj/formats/pdb/pdbstructure.py:435: UserWarning: WARNING: two consecutive residues with same number (ATOM   2813  N   GLN A 221      47.470  31.410  21.630  1.00  1.00           N  , ATOM   2812  O   ALA A 221      49.500  32.300  21.380  1.00  1.00           O  )\n",
      "  warnings.warn(\"WARNING: two consecutive residues with same number (%s, %s)\" % (atom, self._current_residue.atoms[-1]))\n"
     ]
    }
   ],
   "source": [
    "traj = mdj.load_dcd('../outputs/traj.dcd', '../inputs/protein_ligand.pdb')"
   ]
  },
  {
   "cell_type": "code",
   "execution_count": 6,
   "metadata": {},
   "outputs": [],
   "source": [
    "corrupt_traj = traj[idxs_prj]\n",
    "corrupt_traj.save('../outputs/corrupt_frames.dcd')"
   ]
  },
  {
   "cell_type": "code",
   "execution_count": 32,
   "metadata": {},
   "outputs": [],
   "source": [
    "# random_frames = np.random.choice(np.arange(len(idxs_prj)), 10, replace=False)\n",
    "# random_frames = np.append(random_frames, [47161])\n",
    "# print(random_frames)\n",
    "# new_traj = corrupt_traj[random_frames]\n",
    "# new_traj.save('../outputs/random_frames.dcd')"
   ]
  },
  {
   "cell_type": "code",
   "execution_count": 7,
   "metadata": {},
   "outputs": [
    {
     "name": "stdout",
     "output_type": "stream",
     "text": [
      "116497\n"
     ]
    }
   ],
   "source": [
    "# select positives\n",
    "idxs = np.where(np.not_equal(data[:, 2], data[:, 4]))[0]\n",
    "positive_idxs_prj = [idx for idx in idxs if data[idx, 4] > 0]\n",
    "print(len(idxs_prj))"
   ]
  },
  {
   "cell_type": "code",
   "execution_count": 8,
   "metadata": {},
   "outputs": [],
   "source": [
    "# positive_prj_traj = traj[positive_idxs_prj]\n",
    "# positive_prj_traj.save_dcd('../outputs/pproj.dcd')"
   ]
  },
  {
   "cell_type": "code",
   "execution_count": 10,
   "metadata": {},
   "outputs": [],
   "source": [
    "d1 = data[:, 1]\n",
    "proj_pbc = data[:, 2]\n",
    "proj_nopbc = data[:, 4]\n",
    "dist_pbc = np.abs(d1 - proj_pbc)\n",
    "dist_nopbc = np.abs(d1 - proj_nopbc)"
   ]
  },
  {
   "cell_type": "code",
   "execution_count": 14,
   "metadata": {},
   "outputs": [
    {
     "name": "stdout",
     "output_type": "stream",
     "text": [
      "(4887,)\n"
     ]
    }
   ],
   "source": [
    "idxs_dist = np.where(dist_pbc>0.5)[0]\n",
    "print(idxs_dist.shape)"
   ]
  },
  {
   "cell_type": "code",
   "execution_count": 15,
   "metadata": {},
   "outputs": [],
   "source": [
    "dist_traj = traj[idxs_dist]\n",
    "dist_traj.save('../outputs/dist_traj.dcd')"
   ]
  }
 ],
 "metadata": {
  "kernelspec": {
   "display_name": "plumed",
   "language": "python",
   "name": "python3"
  },
  "language_info": {
   "codemirror_mode": {
    "name": "ipython",
    "version": 3
   },
   "file_extension": ".py",
   "mimetype": "text/x-python",
   "name": "python",
   "nbconvert_exporter": "python",
   "pygments_lexer": "ipython3",
   "version": "3.8.15"
  },
  "orig_nbformat": 4,
  "vscode": {
   "interpreter": {
    "hash": "1a7639d33abdf9055a9f3f1fee1056cfff44ea0ecfbc31d21406269354df5116"
   }
  }
 },
 "nbformat": 4,
 "nbformat_minor": 2
}
