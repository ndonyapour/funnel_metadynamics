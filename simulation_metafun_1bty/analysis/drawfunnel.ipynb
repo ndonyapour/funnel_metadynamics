{
 "cells": [
  {
   "cell_type": "code",
   "execution_count": 113,
   "metadata": {},
   "outputs": [],
   "source": [
    "import numpy as np\n",
    "import math\n",
    "import plumed\n",
    "import mdtraj as mdj\n",
    "import matplotlib.pyplot as plt\n",
    "import pandas as pd "
   ]
  },
  {
   "cell_type": "code",
   "execution_count": 114,
   "metadata": {},
   "outputs": [],
   "source": [
    "# make fake topology\n",
    "def make_top(num_atoms):\n",
    "    data = []\n",
    "    for i in range(num_atoms):\n",
    "        data.append(dict(serial=i, name=\"H\", element=\"H\",\n",
    "            resSeq=i + 1, resName=\"UNK\", chainID=0))\n",
    "\n",
    "    data = pd.DataFrame(data)\n",
    "\n",
    "    topology = mdj.Topology.from_dataframe(data, bonds=np.zeros((0, 2), dtype='int'))\n",
    "    return topology\n",
    "\n",
    "def make_funnel_traj(positions, unitcell_lengths, unitcell_angles):\n",
    "    n_atoms = positions.shape[1]\n",
    "    n_frames = positions.shape[0]\n",
    "    \n",
    "    topology = make_top(n_atoms)\n",
    "\n",
    "    new_traj = mdj.Trajectory(xyz=positions, topology=topology, \n",
    "                unitcell_lengths=unitcell_lengths,\n",
    "                unitcell_angles=unitcell_angles)\n",
    "    return new_traj\n",
    "    \n",
    "    \n",
    "\n"
   ]
  },
  {
   "cell_type": "code",
   "execution_count": 115,
   "metadata": {},
   "outputs": [],
   "source": [
    "def makeFunnel(p1_com, p2_com, s_cent=1.6, beta_cent=0.3, wall_width=1.5, wall_buffer=1.5, lower_wall=0.5, \n",
    "               upper_wall=3.7, vec_step=0.25, angle_sample=20):\n",
    "    \n",
    "    s_cent = float(s_cent)\n",
    "    beta_cent = float(beta_cent)\n",
    "    wall_width = float(wall_width)\n",
    "    wall_buffer = float(wall_buffer)\n",
    "    lower_wall = float(lower_wall)\n",
    "    upper_wall = float(upper_wall)\n",
    "    vec_step = float(vec_step)\n",
    "    angle_sample = float(angle_sample)\n",
    "\n",
    "    # get coords of the origin and vector points\n",
    "    #origin = cmd.get_coords(selection, 1)[0]\n",
    "    origin = p1_com\n",
    "    v1 = p1_com\n",
    "    v2 = p2_com\n",
    "    # calculate the vector defined by points p1 and p2\n",
    "    vec = np.array(v2, dtype=float) - np.array(v1, dtype=float)\n",
    "    # BEWARE: inconsistency with linalg, if vec is a list and not an array!!!\n",
    "#    print(np.linalg.norm(vec), np.linalg.norm(v2 - v1))\n",
    "    # make it a unit vector\n",
    "    unit_vec = vec/np.linalg.norm(vec)\n",
    "#    print(np.linalg.norm(vec), vec, np.linalg.norm(unit_vec), unit_vec)\n",
    "    # how to get orthogonal vectors\n",
    "    # https://math.stackexchange.com/questions/133177/finding-a-unit-vector-perpendicular-to-another-vector\n",
    "    # determine 1st orthogonal vector\n",
    "    a0 = np.random.randint(1,10)\n",
    "    a1 = np.random.randint(1,10)\n",
    "    a2 = -(a0*vec[0] + a1*vec[1])/vec[2]\n",
    "    a = np.asarray([a0, a1, a2])\n",
    "    unit_a = a/np.linalg.norm(a)\n",
    "    # determine 2nd orthogonal vector\n",
    "    unit_b = np.cross(unit_a, unit_vec)\n",
    "#    print(unit_vec, unit_a, unit_b)\n",
    "#    print(np.linalg.norm(unit_vec), np.linalg.norm(unit_a), np.linalg.norm(unit_b))\n",
    "    # iterate along the selected vector\n",
    "    funnel_coords = []\n",
    "    for step in np.arange(lower_wall, upper_wall, vec_step):\n",
    "        # iterate around a circle with its radius defined by the sigmoid function\n",
    "        radius = (wall_width / (1 + np.exp(beta_cent * (step - s_cent)))) + wall_buffer\n",
    "        for angle in np.arange(-np.pi, np.pi, 2 * np.pi / angle_sample):\n",
    "            # calculate parametric functions for this specific case\n",
    "            # https://math.stackexchange.com/questions/73237/parametric-equation-of-a-circle-in-3d-space\n",
    "            # generate pseudoatoms along the axis\n",
    "            pos = origin + unit_vec*step + radius*(np.cos(angle)*unit_a + np.sin(angle)*unit_b)\n",
    "            funnel_coords.append(pos)\n",
    "    return funnel_coords"
   ]
  },
  {
   "cell_type": "code",
   "execution_count": 116,
   "metadata": {},
   "outputs": [],
   "source": [
    "s_cent = 2.3                                    # INFLEXION\n",
    "beta_cent = 1.0                                 # STEEPNESS\n",
    "wall_width = 0.85                               # WIDTH (h)\n",
    "wall_buffer = 0.15                               # BUFFER (f, total width = WIDTH + BUFFER)\n",
    "lwall = 0.5\n",
    "uwall = 3.6 \n",
    "#2.0 1.5 0.6 0.15 0.5 4.0"
   ]
  },
  {
   "cell_type": "code",
   "execution_count": 133,
   "metadata": {},
   "outputs": [],
   "source": [
    "%%bash\n",
    "plumed driver --plumed ../outputs/plumed.dat --mf_dcd ../outputs/dist_traj.dcd --pdb ../inputs/protein_ligand.pdb > out.txt"
   ]
  },
  {
   "cell_type": "code",
   "execution_count": 134,
   "metadata": {},
   "outputs": [],
   "source": [
    "\n",
    "top = make_top(2)\n",
    "funnel_points = mdj.load_xyz('funnel_points.xyz', top)"
   ]
  },
  {
   "cell_type": "code",
   "execution_count": 135,
   "metadata": {},
   "outputs": [
    {
     "name": "stdout",
     "output_type": "stream",
     "text": [
      "(4887, 260, 3)\n"
     ]
    }
   ],
   "source": [
    "traj_funnel_coords = []\n",
    "for points in funnel_points.xyz:\n",
    "    #print(points[0], points[1])\n",
    "    funnel_coords = makeFunnel(points[0], points[1], s_cent, beta_cent, wall_width, wall_buffer, lwall, uwall)\n",
    "    traj_funnel_coords.append(funnel_coords)\n",
    "    \n",
    "traj_funnel_coords = np.array(traj_funnel_coords)\n",
    "print(traj_funnel_coords.shape)"
   ]
  },
  {
   "cell_type": "code",
   "execution_count": 136,
   "metadata": {},
   "outputs": [
    {
     "name": "stderr",
     "output_type": "stream",
     "text": [
      "/home/nz/anaconda3/envs/plumed/lib/python3.8/site-packages/mdtraj/formats/pdb/pdbstructure.py:435: UserWarning: WARNING: two consecutive residues with same number (ATOM    688  N   ARG A  65      41.030  38.590  50.160  1.00  1.00           N  , ATOM    687  O   VAL A  65      40.240  38.830  52.260  1.00  1.00           O  )\n",
      "  warnings.warn(\"WARNING: two consecutive residues with same number (%s, %s)\" % (atom, self._current_residue.atoms[-1]))\n",
      "/home/nz/anaconda3/envs/plumed/lib/python3.8/site-packages/mdtraj/formats/pdb/pdbstructure.py:435: UserWarning: WARNING: two consecutive residues with same number (ATOM   2374  N   TYR A 184      43.370  38.830  21.130  1.00  1.00           N  , ATOM   2373  O   GLY A 184      42.110  40.660  20.840  1.00  1.00           O  )\n",
      "  warnings.warn(\"WARNING: two consecutive residues with same number (%s, %s)\" % (atom, self._current_residue.atoms[-1]))\n",
      "/home/nz/anaconda3/envs/plumed/lib/python3.8/site-packages/mdtraj/formats/pdb/pdbstructure.py:435: UserWarning: WARNING: two consecutive residues with same number (ATOM   2443  N   LYS A 188      49.640  37.570  23.500  1.00  1.00           N  , ATOM   2442  O   GLY A 188      51.840  37.370  23.890  1.00  1.00           O  )\n",
      "  warnings.warn(\"WARNING: two consecutive residues with same number (%s, %s)\" % (atom, self._current_residue.atoms[-1]))\n",
      "/home/nz/anaconda3/envs/plumed/lib/python3.8/site-packages/mdtraj/formats/pdb/pdbstructure.py:435: UserWarning: WARNING: two consecutive residues with same number (ATOM   2813  N   GLN A 221      47.470  31.410  21.630  1.00  1.00           N  , ATOM   2812  O   ALA A 221      49.500  32.300  21.380  1.00  1.00           O  )\n",
      "  warnings.warn(\"WARNING: two consecutive residues with same number (%s, %s)\" % (atom, self._current_residue.atoms[-1]))\n"
     ]
    }
   ],
   "source": [
    "traj = mdj.load_dcd('../outputs/dist_traj.dcd', '../inputs/protein_ligand.pdb')\n",
    "traj = make_funnel_traj(traj_funnel_coords, traj.unitcell_lengths, traj.unitcell_angles)\n",
    "traj.save_xyz('../outputs/funnel.xyz')"
   ]
  },
  {
   "cell_type": "code",
   "execution_count": null,
   "metadata": {},
   "outputs": [],
   "source": []
  }
 ],
 "metadata": {
  "kernelspec": {
   "display_name": "plumed",
   "language": "python",
   "name": "python3"
  },
  "language_info": {
   "codemirror_mode": {
    "name": "ipython",
    "version": 3
   },
   "file_extension": ".py",
   "mimetype": "text/x-python",
   "name": "python",
   "nbconvert_exporter": "python",
   "pygments_lexer": "ipython3",
   "version": "3.8.15"
  },
  "orig_nbformat": 4,
  "vscode": {
   "interpreter": {
    "hash": "1a7639d33abdf9055a9f3f1fee1056cfff44ea0ecfbc31d21406269354df5116"
   }
  }
 },
 "nbformat": 4,
 "nbformat_minor": 2
}
