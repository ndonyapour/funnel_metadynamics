{
 "cells": [
  {
   "cell_type": "code",
   "execution_count": 2,
   "metadata": {},
   "outputs": [],
   "source": [
    "import numpy as np\n",
    "import math\n",
    "import plumed\n",
    "import mdtraj as mdj\n",
    "import matplotlib.pyplot as plt"
   ]
  },
  {
   "cell_type": "code",
   "execution_count": 3,
   "metadata": {},
   "outputs": [],
   "source": [
    "%%bash\n",
    "# compute free energy as a function of simulation time\n",
    "#kt = 0.0008314 * 300\n",
    "plumed sum_hills --hills ../HILLS --idw pp.proj --kt 2.5 --mintozero  --outfile fes_1d.dat > out.txt"
   ]
  },
  {
   "cell_type": "code",
   "execution_count": 19,
   "metadata": {},
   "outputs": [],
   "source": [
    "# finds the relative free energy of a 1D FES, usually\n",
    "# of the proj CV\n",
    "# you will see where this is used in the cell below\n",
    "def fes_rel(fes_list, fes_all=None, kT=2.5):\n",
    "    results = []\n",
    "    for i in fes_list:\n",
    "        temp = 0\n",
    "        for j in i:\n",
    "            temp += math.exp(-j / kT)\n",
    "        results.append(temp)\n",
    "    total = 0\n",
    "    if fes_all is None:\n",
    "        for i in results:\n",
    "            total += i\n",
    "    else:\n",
    "        for i in fes_all:\n",
    "            total += i         \n",
    "    results_2 = []\n",
    "    for i in results:\n",
    "        if i > 0:\n",
    "            results_2.append(-kT * math.log(i / total))\n",
    "        else:\n",
    "            results_2.append(np.inf)\n",
    "    min_res = min(results_2)\n",
    "    return [i - min_res for i in results_2]"
   ]
  },
  {
   "cell_type": "code",
   "execution_count": 21,
   "metadata": {},
   "outputs": [
    {
     "name": "stdout",
     "output_type": "stream",
     "text": [
      "1.40882876349332\n"
     ]
    }
   ],
   "source": [
    "funnel_correction = 2.45\n",
    "fes_data = np.loadtxt(\"fes_1d.dat\")\n",
    "fes_1d = fes_rel(fes_data)\n",
    "estimate = -(np.median(fes_1d[-65:-15])/4.184 - funnel_correction)\n",
    "print(estimate)"
   ]
  }
 ],
 "metadata": {
  "kernelspec": {
   "display_name": "plumed",
   "language": "python",
   "name": "python3"
  },
  "language_info": {
   "codemirror_mode": {
    "name": "ipython",
    "version": 3
   },
   "file_extension": ".py",
   "mimetype": "text/x-python",
   "name": "python",
   "nbconvert_exporter": "python",
   "pygments_lexer": "ipython3",
   "version": "3.8.13"
  },
  "orig_nbformat": 4,
  "vscode": {
   "interpreter": {
    "hash": "1a7639d33abdf9055a9f3f1fee1056cfff44ea0ecfbc31d21406269354df5116"
   }
  }
 },
 "nbformat": 4,
 "nbformat_minor": 2
}
