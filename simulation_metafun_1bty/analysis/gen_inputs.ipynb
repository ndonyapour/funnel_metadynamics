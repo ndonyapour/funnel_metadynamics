{
 "cells": [
  {
   "cell_type": "code",
   "execution_count": 1,
   "metadata": {},
   "outputs": [
    {
     "data": {
      "application/vnd.jupyter.widget-view+json": {
       "model_id": "6dc4d480cf394e188df4f08a4f8b61c8",
       "version_major": 2,
       "version_minor": 0
      },
      "text/plain": []
     },
     "metadata": {},
     "output_type": "display_data"
    }
   ],
   "source": [
    "import numpy as np\n",
    "import pandas as pd\n",
    "import matplotlib.pyplot as plt\n",
    "import mdtraj as mdj\n",
    "import nglview as nv\n"
   ]
  },
  {
   "cell_type": "code",
   "execution_count": 6,
   "metadata": {},
   "outputs": [
    {
     "name": "stderr",
     "output_type": "stream",
     "text": [
      "/home/nz/anaconda3/envs/plumed/lib/python3.8/site-packages/mdtraj/formats/gro.py:322: UserWarning: WARNING: two consecutive residues with same number (ARG, VAL)\n",
      "  warnings.warn(\"WARNING: two consecutive residues with same number (%s, %s)\" % (thisresname, old_resname))\n",
      "/home/nz/anaconda3/envs/plumed/lib/python3.8/site-packages/mdtraj/formats/gro.py:322: UserWarning: WARNING: two consecutive residues with same number (TYR, GLY)\n",
      "  warnings.warn(\"WARNING: two consecutive residues with same number (%s, %s)\" % (thisresname, old_resname))\n",
      "/home/nz/anaconda3/envs/plumed/lib/python3.8/site-packages/mdtraj/formats/gro.py:322: UserWarning: WARNING: two consecutive residues with same number (LYS, GLY)\n",
      "  warnings.warn(\"WARNING: two consecutive residues with same number (%s, %s)\" % (thisresname, old_resname))\n",
      "/home/nz/anaconda3/envs/plumed/lib/python3.8/site-packages/mdtraj/formats/gro.py:322: UserWarning: WARNING: two consecutive residues with same number (GLN, ALA)\n",
      "  warnings.warn(\"WARNING: two consecutive residues with same number (%s, %s)\" % (thisresname, old_resname))\n"
     ]
    }
   ],
   "source": [
    "traj = mdj.load('../inputs/complex.gro')\n",
    "# traj.save_pdb('complex.pdb')\n",
    "#traj = mdj.load('inputs/complex.pdb')"
   ]
  },
  {
   "cell_type": "code",
   "execution_count": 7,
   "metadata": {},
   "outputs": [
    {
     "data": {
      "text/plain": [
       "3220"
      ]
     },
     "execution_count": 7,
     "metadata": {},
     "output_type": "execute_result"
    }
   ],
   "source": [
    "protein = traj.topology.select('protein')\n",
    "bfactors = np.ones(protein.size)\n",
    "protein_traj = traj.atom_slice(protein)\n",
    "protein_traj.save_pdb('../inputs/protein.pdb', bfactors=bfactors)\n",
    "protein_traj.n_atoms"
   ]
  },
  {
   "cell_type": "code",
   "execution_count": 8,
   "metadata": {},
   "outputs": [],
   "source": [
    "protein_lig = traj.topology.select('protein or resname \"MOL\"')\n",
    "bfactors = np.ones(protein_lig.size)\n",
    "protein_lig_traj = traj.atom_slice(protein_lig)\n",
    "protein_lig_traj.save_pdb('../inputs/protein_ligand.pdb', bfactors=bfactors)"
   ]
  },
  {
   "cell_type": "code",
   "execution_count": 12,
   "metadata": {},
   "outputs": [],
   "source": [
    "pdb = mdj.load('../inputs/1BTY.pdb')\n",
    "# the atom indices are different \n",
    "pdb.topology = traj.topology\n",
    "reference = pdb.topology.select('protein and name CA')\n",
    "bfactors = np.ones(reference.size)\n",
    "protein_ca = pdb.atom_slice(reference)\n",
    "protein_ca.save_pdb('../inputs/1BTY_reference.pdb', bfactors=bfactors)"
   ]
  },
  {
   "cell_type": "code",
   "execution_count": 7,
   "metadata": {},
   "outputs": [],
   "source": [
    "# pocket\n",
    "cutoff = 0.8\n",
    "ligand = traj.topology.select('resname \"MOL\"')\n",
    "neighbors = mdj.compute_neighbors(traj, cutoff, query_indices=ligand, haystack_indices=protein, periodic=True)\n",
    "bfactors = np.ones(neighbors[0].size)\n",
    "protein_lig_traj = traj.atom_slice(neighbors[0])\n",
    "protein_lig_traj.save_pdb('inputs/pocket.pdb', bfactors=bfactors)"
   ]
  },
  {
   "cell_type": "code",
   "execution_count": 2,
   "metadata": {},
   "outputs": [
    {
     "name": "stdout",
     "output_type": "stream",
     "text": [
      "[328,348,1769,2479,2490,2500,2517,2524,2536,2547,2719,2735,2746,2770,2777,2788,2795,2904,2911]\n"
     ]
    }
   ],
   "source": [
    "import mdtraj as mdj\n",
    "pdb = mdj.load('../inputs/pocket.pdb')\n",
    "ca_atoms = pdb.top.select('name CA')\n",
    "ca_traj = pdb.atom_slice(ca_atoms)\n",
    "serials = [atom.serial for atom in ca_traj.topology.atoms]\n",
    "print(str(serials).replace(' ', ''))"
   ]
  },
  {
   "cell_type": "code",
   "execution_count": null,
   "metadata": {},
   "outputs": [],
   "source": []
  }
 ],
 "metadata": {
  "kernelspec": {
   "display_name": "Python 3.8.13 ('plumed')",
   "language": "python",
   "name": "python3"
  },
  "language_info": {
   "codemirror_mode": {
    "name": "ipython",
    "version": 3
   },
   "file_extension": ".py",
   "mimetype": "text/x-python",
   "name": "python",
   "nbconvert_exporter": "python",
   "pygments_lexer": "ipython3",
   "version": "3.8.13"
  },
  "orig_nbformat": 4,
  "vscode": {
   "interpreter": {
    "hash": "1a7639d33abdf9055a9f3f1fee1056cfff44ea0ecfbc31d21406269354df5116"
   }
  }
 },
 "nbformat": 4,
 "nbformat_minor": 2
}
