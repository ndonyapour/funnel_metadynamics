{
 "cells": [
  {
   "cell_type": "code",
   "execution_count": 6,
   "metadata": {},
   "outputs": [],
   "source": [
    "import numpy as np \n",
    "import mdtraj as mdj\n",
    "import BioSimSpace as BSS\n",
    "import os"
   ]
  },
  {
   "cell_type": "code",
   "execution_count": 3,
   "metadata": {},
   "outputs": [],
   "source": [
    "# Load the system.\n",
    "inputs_dir = '../inputs'\n",
    "system = BSS.IO.readMolecules([f\"{inputs_dir}/complex.prmtop\", f\"{inputs_dir}/complex.rst7\"])\n",
    "\n",
    "\n",
    "# Create the funnel parameters.\n",
    "p0, p1 = BSS.Metadynamics.CollectiveVariable.makeFunnel(system)\n",
    "\n",
    "# Define the collective variable.\n",
    "funnel_cv = BSS.Metadynamics.CollectiveVariable.Funnel(p0, p1)\n",
    "\n",
    "# Create a view.\n",
    "view = BSS.Metadynamics.CollectiveVariable.viewFunnel(system, funnel_cv)"
   ]
  },
  {
   "cell_type": "code",
   "execution_count": 4,
   "metadata": {},
   "outputs": [
    {
     "data": {
      "application/vnd.jupyter.widget-view+json": {
       "model_id": "27eea2bb4103493c8ce68e7d6ce3e340",
       "version_major": 2,
       "version_minor": 0
      },
      "text/plain": []
     },
     "metadata": {},
     "output_type": "display_data"
    },
    {
     "data": {
      "application/vnd.jupyter.widget-view+json": {
       "model_id": "da728962180f4cc39e5f8b219df916c1",
       "version_major": 2,
       "version_minor": 0
      },
      "text/plain": [
       "ThemeManager()"
      ]
     },
     "metadata": {},
     "output_type": "display_data"
    },
    {
     "data": {
      "application/vnd.jupyter.widget-view+json": {
       "model_id": "6bb761dc7f68430593ce3c30bee90fe9",
       "version_major": 2,
       "version_minor": 0
      },
      "text/plain": [
       "NGLWidget(gui_style='ngl')"
      ]
     },
     "metadata": {},
     "output_type": "display_data"
    }
   ],
   "source": [
    "view.molecules([0, 1, -1])"
   ]
  },
  {
   "cell_type": "code",
   "execution_count": 5,
   "metadata": {},
   "outputs": [
    {
     "name": "stdout",
     "output_type": "stream",
     "text": [
      "[1223, 1237, 2069, 2085, 2099, 2603, 2625, 2641, 2660] [537, 552, 590, 601, 615, 626, 637, 649, 1298, 1324, 1331, 1394, 1406, 1458, 1472, 1491, 1498, 1874, 1881, 1897, 1904, 2099, 2134, 2589, 2603, 2625]\n"
     ]
    }
   ],
   "source": [
    "print(p0, p1)"
   ]
  },
  {
   "cell_type": "code",
   "execution_count": 1,
   "metadata": {},
   "outputs": [
    {
     "ename": "NameError",
     "evalue": "name 'mdj' is not defined",
     "output_type": "error",
     "traceback": [
      "\u001b[0;31m---------------------------------------------------------------------------\u001b[0m",
      "\u001b[0;31mNameError\u001b[0m                                 Traceback (most recent call last)",
      "\u001b[1;32m/home/nz/projects/FunnelMetadynamics/openmm/simulation_biosim_2wi3_run1/analysis/viewFunnel.ipynb Cell 5\u001b[0m in \u001b[0;36m<cell line: 1>\u001b[0;34m()\u001b[0m\n\u001b[0;32m----> <a href='vscode-notebook-cell://ssh-remote%2B129.123.24.136/home/nz/projects/FunnelMetadynamics/openmm/simulation_biosim_2wi3_run1/analysis/viewFunnel.ipynb#W4sdnNjb2RlLXJlbW90ZQ%3D%3D?line=0'>1</a>\u001b[0m traj \u001b[39m=\u001b[39m mdj\u001b[39m.\u001b[39mload(\u001b[39m'\u001b[39m\u001b[39m../inputs/complex.rst7\u001b[39m\u001b[39m'\u001b[39m)\n\u001b[1;32m      <a href='vscode-notebook-cell://ssh-remote%2B129.123.24.136/home/nz/projects/FunnelMetadynamics/openmm/simulation_biosim_2wi3_run1/analysis/viewFunnel.ipynb#W4sdnNjb2RlLXJlbW90ZQ%3D%3D?line=1'>2</a>\u001b[0m inpcrd \u001b[39m=\u001b[39m protein_ligand_idxs \u001b[39m=\u001b[39m traj\u001b[39m.\u001b[39mtopology\u001b[39m.\u001b[39mselect(\u001b[39m'\u001b[39m\u001b[39mprotein or resname \u001b[39m\u001b[39m\"\u001b[39m\u001b[39mMOL\u001b[39m\u001b[39m\"\u001b[39m\u001b[39m'\u001b[39m)\n\u001b[1;32m      <a href='vscode-notebook-cell://ssh-remote%2B129.123.24.136/home/nz/projects/FunnelMetadynamics/openmm/simulation_biosim_2wi3_run1/analysis/viewFunnel.ipynb#W4sdnNjb2RlLXJlbW90ZQ%3D%3D?line=2'>3</a>\u001b[0m positions \u001b[39m=\u001b[39m inpcrd\u001b[39m.\u001b[39mgetPositions(asNumpy\u001b[39m=\u001b[39m\u001b[39mTrue\u001b[39;00m)\n",
      "\u001b[0;31mNameError\u001b[0m: name 'mdj' is not defined"
     ]
    }
   ],
   "source": []
  },
  {
   "cell_type": "code",
   "execution_count": null,
   "metadata": {},
   "outputs": [],
   "source": []
  }
 ],
 "metadata": {
  "kernelspec": {
   "display_name": "plumed",
   "language": "python",
   "name": "python3"
  },
  "language_info": {
   "codemirror_mode": {
    "name": "ipython",
    "version": 3
   },
   "file_extension": ".py",
   "mimetype": "text/x-python",
   "name": "python",
   "nbconvert_exporter": "python",
   "pygments_lexer": "ipython3",
   "version": "3.8.15 | packaged by conda-forge | (default, Nov 22 2022, 08:46:39) \n[GCC 10.4.0]"
  },
  "orig_nbformat": 4,
  "vscode": {
   "interpreter": {
    "hash": "1a7639d33abdf9055a9f3f1fee1056cfff44ea0ecfbc31d21406269354df5116"
   }
  }
 },
 "nbformat": 4,
 "nbformat_minor": 2
}
