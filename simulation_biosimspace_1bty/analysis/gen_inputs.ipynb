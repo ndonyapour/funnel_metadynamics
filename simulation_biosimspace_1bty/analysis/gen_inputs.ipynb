{
 "cells": [
  {
   "cell_type": "code",
   "execution_count": 5,
   "metadata": {},
   "outputs": [],
   "source": [
    "import numpy as np \n",
    "from openmm.app.amberinpcrdfile import AmberInpcrdFile\n",
    "import mdtraj as mdj\n",
    "import BioSimSpace as BSS\n",
    "import os"
   ]
  },
  {
   "cell_type": "code",
   "execution_count": 8,
   "metadata": {},
   "outputs": [],
   "source": [
    "topology = mdj.load_topology('../inputs/complex.prm7')\n",
    "\n",
    "inpcrd = AmberInpcrdFile('../inputs/complex.rst7')\n",
    "positions = inpcrd.getPositions(asNumpy=True)\n",
    "boxvectors = inpcrd.getBoxVectors(asNumpy=True)\n",
    "l1, l2, l3, a1, a2, a3 = mdj.utils.box_vectors_to_lengths_and_angles(boxvectors[0]._value,\n",
    "                                                                     boxvectors[1]._value,\n",
    "                                                                     boxvectors[2]._value)\n",
    "unitcell_lengths, unitcell_angles = np.array([l1, l2, l3]), np.array([a1, a2, a3])\n",
    "pdb = mdj.Trajectory(positions, topology, \n",
    "                     unitcell_lengths=unitcell_lengths, \n",
    "                     unitcell_angles=unitcell_angles)\n",
    "pdb.save('complex.pdb')"
   ]
  },
  {
   "cell_type": "code",
   "execution_count": null,
   "metadata": {},
   "outputs": [],
   "source": [
    "pdb = mdj.load_pdb('inputs/complex.pdb')\n",
    "protein_lig = pdb.topology.select('protein or resname \"MOL\"')\n",
    "bfactors = np.ones(protein_lig.size)\n",
    "protein_lig_traj = pdb.atom_slice(protein_lig)\n",
    "protein_lig_traj.save_pdb('../inputs/protein_ligand.pdb', bfactors=bfactors)"
   ]
  }
 ],
 "metadata": {
  "kernelspec": {
   "display_name": "plumed",
   "language": "python",
   "name": "python3"
  },
  "language_info": {
   "codemirror_mode": {
    "name": "ipython",
    "version": 3
   },
   "file_extension": ".py",
   "mimetype": "text/x-python",
   "name": "python",
   "nbconvert_exporter": "python",
   "pygments_lexer": "ipython3",
   "version": "3.8.15 | packaged by conda-forge | (default, Nov 22 2022, 08:46:39) \n[GCC 10.4.0]"
  },
  "orig_nbformat": 4,
  "vscode": {
   "interpreter": {
    "hash": "1a7639d33abdf9055a9f3f1fee1056cfff44ea0ecfbc31d21406269354df5116"
   }
  }
 },
 "nbformat": 4,
 "nbformat_minor": 2
}
